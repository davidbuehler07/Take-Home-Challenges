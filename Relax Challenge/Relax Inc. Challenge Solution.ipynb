{
 "cells": [
  {
   "cell_type": "code",
   "execution_count": 1,
   "metadata": {},
   "outputs": [
    {
     "name": "stderr",
     "output_type": "stream",
     "text": [
      "Using TensorFlow backend.\n"
     ]
    }
   ],
   "source": [
    "import pandas as pd\n",
    "import numpy as np\n",
    "import matplotlib.pyplot as plt\n",
    "%matplotlib inline\n",
    "\n",
    "from sklearn.model_selection import train_test_split\n",
    "from sklearn.model_selection import GridSearchCV\n",
    "from sklearn.pipeline import Pipeline\n",
    "from sklearn.preprocessing import OneHotEncoder\n",
    "from sklearn.ensemble import GradientBoostingClassifier\n",
    "from sklearn.metrics import accuracy_score, classification_report\n",
    "\n",
    "from imblearn.over_sampling import SMOTE\n",
    "\n",
    "import warnings\n",
    "warnings.filterwarnings('ignore')"
   ]
  },
  {
   "cell_type": "code",
   "execution_count": 2,
   "metadata": {},
   "outputs": [],
   "source": [
    "user_df = pd.read_csv('takehome_users.csv', encoding='ISO-8859-1')\n",
    "eng_df = pd.read_csv('takehome_user_engagement.csv', parse_dates=['time_stamp'])\n",
    "user_df = user_df.rename({'object_id':'user_id'}, axis=1)\n",
    "eng_df = eng_df.set_index('time_stamp')"
   ]
  },
  {
   "cell_type": "code",
   "execution_count": 3,
   "metadata": {},
   "outputs": [
    {
     "data": {
      "text/html": [
       "<div>\n",
       "<style scoped>\n",
       "    .dataframe tbody tr th:only-of-type {\n",
       "        vertical-align: middle;\n",
       "    }\n",
       "\n",
       "    .dataframe tbody tr th {\n",
       "        vertical-align: top;\n",
       "    }\n",
       "\n",
       "    .dataframe thead th {\n",
       "        text-align: right;\n",
       "    }\n",
       "</style>\n",
       "<table border=\"1\" class=\"dataframe\">\n",
       "  <thead>\n",
       "    <tr style=\"text-align: right;\">\n",
       "      <th></th>\n",
       "      <th>user_id</th>\n",
       "      <th>creation_time</th>\n",
       "      <th>name</th>\n",
       "      <th>email</th>\n",
       "      <th>creation_source</th>\n",
       "      <th>last_session_creation_time</th>\n",
       "      <th>opted_in_to_mailing_list</th>\n",
       "      <th>enabled_for_marketing_drip</th>\n",
       "      <th>org_id</th>\n",
       "      <th>invited_by_user_id</th>\n",
       "    </tr>\n",
       "  </thead>\n",
       "  <tbody>\n",
       "    <tr>\n",
       "      <th>0</th>\n",
       "      <td>1</td>\n",
       "      <td>4/22/2014 3:53</td>\n",
       "      <td>Clausen August</td>\n",
       "      <td>AugustCClausen@yahoo.com</td>\n",
       "      <td>GUEST_INVITE</td>\n",
       "      <td>1.398139e+09</td>\n",
       "      <td>1</td>\n",
       "      <td>0</td>\n",
       "      <td>11</td>\n",
       "      <td>10803.0</td>\n",
       "    </tr>\n",
       "    <tr>\n",
       "      <th>1</th>\n",
       "      <td>2</td>\n",
       "      <td>11/15/2013 3:45</td>\n",
       "      <td>Poole Matthew</td>\n",
       "      <td>MatthewPoole@gustr.com</td>\n",
       "      <td>ORG_INVITE</td>\n",
       "      <td>1.396238e+09</td>\n",
       "      <td>0</td>\n",
       "      <td>0</td>\n",
       "      <td>1</td>\n",
       "      <td>316.0</td>\n",
       "    </tr>\n",
       "    <tr>\n",
       "      <th>2</th>\n",
       "      <td>3</td>\n",
       "      <td>3/19/2013 23:14</td>\n",
       "      <td>Bottrill Mitchell</td>\n",
       "      <td>MitchellBottrill@gustr.com</td>\n",
       "      <td>ORG_INVITE</td>\n",
       "      <td>1.363735e+09</td>\n",
       "      <td>0</td>\n",
       "      <td>0</td>\n",
       "      <td>94</td>\n",
       "      <td>1525.0</td>\n",
       "    </tr>\n",
       "    <tr>\n",
       "      <th>3</th>\n",
       "      <td>4</td>\n",
       "      <td>5/21/2013 8:09</td>\n",
       "      <td>Clausen Nicklas</td>\n",
       "      <td>NicklasSClausen@yahoo.com</td>\n",
       "      <td>GUEST_INVITE</td>\n",
       "      <td>1.369210e+09</td>\n",
       "      <td>0</td>\n",
       "      <td>0</td>\n",
       "      <td>1</td>\n",
       "      <td>5151.0</td>\n",
       "    </tr>\n",
       "    <tr>\n",
       "      <th>4</th>\n",
       "      <td>5</td>\n",
       "      <td>1/17/2013 10:14</td>\n",
       "      <td>Raw Grace</td>\n",
       "      <td>GraceRaw@yahoo.com</td>\n",
       "      <td>GUEST_INVITE</td>\n",
       "      <td>1.358850e+09</td>\n",
       "      <td>0</td>\n",
       "      <td>0</td>\n",
       "      <td>193</td>\n",
       "      <td>5240.0</td>\n",
       "    </tr>\n",
       "  </tbody>\n",
       "</table>\n",
       "</div>"
      ],
      "text/plain": [
       "   user_id    creation_time               name                       email  \\\n",
       "0        1   4/22/2014 3:53     Clausen August    AugustCClausen@yahoo.com   \n",
       "1        2  11/15/2013 3:45      Poole Matthew      MatthewPoole@gustr.com   \n",
       "2        3  3/19/2013 23:14  Bottrill Mitchell  MitchellBottrill@gustr.com   \n",
       "3        4   5/21/2013 8:09    Clausen Nicklas   NicklasSClausen@yahoo.com   \n",
       "4        5  1/17/2013 10:14          Raw Grace          GraceRaw@yahoo.com   \n",
       "\n",
       "  creation_source  last_session_creation_time  opted_in_to_mailing_list  \\\n",
       "0    GUEST_INVITE                1.398139e+09                         1   \n",
       "1      ORG_INVITE                1.396238e+09                         0   \n",
       "2      ORG_INVITE                1.363735e+09                         0   \n",
       "3    GUEST_INVITE                1.369210e+09                         0   \n",
       "4    GUEST_INVITE                1.358850e+09                         0   \n",
       "\n",
       "   enabled_for_marketing_drip  org_id  invited_by_user_id  \n",
       "0                           0      11             10803.0  \n",
       "1                           0       1               316.0  \n",
       "2                           0      94              1525.0  \n",
       "3                           0       1              5151.0  \n",
       "4                           0     193              5240.0  "
      ]
     },
     "execution_count": 3,
     "metadata": {},
     "output_type": "execute_result"
    }
   ],
   "source": [
    "user_df.head()"
   ]
  },
  {
   "cell_type": "code",
   "execution_count": 4,
   "metadata": {},
   "outputs": [
    {
     "data": {
      "text/html": [
       "<div>\n",
       "<style scoped>\n",
       "    .dataframe tbody tr th:only-of-type {\n",
       "        vertical-align: middle;\n",
       "    }\n",
       "\n",
       "    .dataframe tbody tr th {\n",
       "        vertical-align: top;\n",
       "    }\n",
       "\n",
       "    .dataframe thead th {\n",
       "        text-align: right;\n",
       "    }\n",
       "</style>\n",
       "<table border=\"1\" class=\"dataframe\">\n",
       "  <thead>\n",
       "    <tr style=\"text-align: right;\">\n",
       "      <th></th>\n",
       "      <th>user_id</th>\n",
       "      <th>visited</th>\n",
       "    </tr>\n",
       "    <tr>\n",
       "      <th>time_stamp</th>\n",
       "      <th></th>\n",
       "      <th></th>\n",
       "    </tr>\n",
       "  </thead>\n",
       "  <tbody>\n",
       "    <tr>\n",
       "      <th>2014-04-22 03:53:00</th>\n",
       "      <td>1</td>\n",
       "      <td>1</td>\n",
       "    </tr>\n",
       "    <tr>\n",
       "      <th>2013-11-15 03:45:00</th>\n",
       "      <td>2</td>\n",
       "      <td>1</td>\n",
       "    </tr>\n",
       "    <tr>\n",
       "      <th>2013-11-29 03:45:00</th>\n",
       "      <td>2</td>\n",
       "      <td>1</td>\n",
       "    </tr>\n",
       "    <tr>\n",
       "      <th>2013-12-09 03:45:00</th>\n",
       "      <td>2</td>\n",
       "      <td>1</td>\n",
       "    </tr>\n",
       "    <tr>\n",
       "      <th>2013-12-25 03:45:00</th>\n",
       "      <td>2</td>\n",
       "      <td>1</td>\n",
       "    </tr>\n",
       "  </tbody>\n",
       "</table>\n",
       "</div>"
      ],
      "text/plain": [
       "                     user_id  visited\n",
       "time_stamp                           \n",
       "2014-04-22 03:53:00        1        1\n",
       "2013-11-15 03:45:00        2        1\n",
       "2013-11-29 03:45:00        2        1\n",
       "2013-12-09 03:45:00        2        1\n",
       "2013-12-25 03:45:00        2        1"
      ]
     },
     "execution_count": 4,
     "metadata": {},
     "output_type": "execute_result"
    }
   ],
   "source": [
    "eng_df.head()"
   ]
  },
  {
   "cell_type": "markdown",
   "metadata": {},
   "source": [
    "Now that we have the data loaded, we need to get these adopted users denoted in the dataset. To do this, we can resample the data set down to one day at a time, then have this rolling window that will show people who have logged on 3 days out of 7, then will give a True or False value for if that person was engaged for the required amount of time."
   ]
  },
  {
   "cell_type": "code",
   "execution_count": 5,
   "metadata": {},
   "outputs": [],
   "source": [
    "users = eng_df.user_id.unique()\n",
    "adopted = []\n",
    "\n",
    "for i in users:\n",
    "    user = eng_df.user_id == i\n",
    "    df_filter = eng_df[user].resample('1D').count()\n",
    "    df_filter = df_filter.rolling(window=7).sum()\n",
    "    df_filter = df_filter.dropna()\n",
    "    adopted.append(any(df_filter[\"visited\"].values >= 7))"
   ]
  },
  {
   "cell_type": "markdown",
   "metadata": {},
   "source": [
    "Now we have all of our engaged users marked. Time to put them all in the their own DataFrame, and join that data set with the users data set. "
   ]
  },
  {
   "cell_type": "code",
   "execution_count": 6,
   "metadata": {},
   "outputs": [],
   "source": [
    "user_adoption = list(zip(users, adopted))\n",
    "\n",
    "df_adopt = pd.DataFrame(user_adoption)\n",
    "df_adopt.columns = [\"user_id\", \"adopted_user\"]\n",
    "\n",
    "df = user_df.merge(df_adopt, on=\"user_id\", how=\"left\")"
   ]
  },
  {
   "cell_type": "markdown",
   "metadata": {},
   "source": [
    "Making the 'adopted_user' column into ones and zeros for true and false values will allow us to do some predictive modeling on this data set."
   ]
  },
  {
   "cell_type": "code",
   "execution_count": 7,
   "metadata": {},
   "outputs": [],
   "source": [
    "df.loc[:, \"adopted_user\"] = df[\"adopted_user\"].map({False:0, True:1, np.nan:0})"
   ]
  },
  {
   "cell_type": "markdown",
   "metadata": {},
   "source": [
    "It will also help to know if these people were invited into the service by someone else, and can be easily done with a lambda function"
   ]
  },
  {
   "cell_type": "code",
   "execution_count": 8,
   "metadata": {},
   "outputs": [],
   "source": [
    "invite = lambda row: 0 if np.isnan(row) else 1\n",
    "df[\"invited_by_user\"] = df[\"invited_by_user_id\"].apply(invite)"
   ]
  },
  {
   "cell_type": "markdown",
   "metadata": {},
   "source": [
    "Now that we have all the features and columns the way we want them, let's put all the relevant features into their own data set that we can do some modeling of."
   ]
  },
  {
   "cell_type": "code",
   "execution_count": 9,
   "metadata": {},
   "outputs": [
    {
     "data": {
      "text/html": [
       "<div>\n",
       "<style scoped>\n",
       "    .dataframe tbody tr th:only-of-type {\n",
       "        vertical-align: middle;\n",
       "    }\n",
       "\n",
       "    .dataframe tbody tr th {\n",
       "        vertical-align: top;\n",
       "    }\n",
       "\n",
       "    .dataframe thead th {\n",
       "        text-align: right;\n",
       "    }\n",
       "</style>\n",
       "<table border=\"1\" class=\"dataframe\">\n",
       "  <thead>\n",
       "    <tr style=\"text-align: right;\">\n",
       "      <th></th>\n",
       "      <th>adopted_user</th>\n",
       "      <th>invited_by_user</th>\n",
       "      <th>creation_source</th>\n",
       "      <th>opted_in_to_mailing_list</th>\n",
       "      <th>enabled_for_marketing_drip</th>\n",
       "    </tr>\n",
       "  </thead>\n",
       "  <tbody>\n",
       "    <tr>\n",
       "      <th>0</th>\n",
       "      <td>0</td>\n",
       "      <td>1</td>\n",
       "      <td>GUEST_INVITE</td>\n",
       "      <td>1</td>\n",
       "      <td>0</td>\n",
       "    </tr>\n",
       "    <tr>\n",
       "      <th>1</th>\n",
       "      <td>0</td>\n",
       "      <td>1</td>\n",
       "      <td>ORG_INVITE</td>\n",
       "      <td>0</td>\n",
       "      <td>0</td>\n",
       "    </tr>\n",
       "    <tr>\n",
       "      <th>2</th>\n",
       "      <td>0</td>\n",
       "      <td>1</td>\n",
       "      <td>ORG_INVITE</td>\n",
       "      <td>0</td>\n",
       "      <td>0</td>\n",
       "    </tr>\n",
       "    <tr>\n",
       "      <th>3</th>\n",
       "      <td>0</td>\n",
       "      <td>1</td>\n",
       "      <td>GUEST_INVITE</td>\n",
       "      <td>0</td>\n",
       "      <td>0</td>\n",
       "    </tr>\n",
       "    <tr>\n",
       "      <th>4</th>\n",
       "      <td>0</td>\n",
       "      <td>1</td>\n",
       "      <td>GUEST_INVITE</td>\n",
       "      <td>0</td>\n",
       "      <td>0</td>\n",
       "    </tr>\n",
       "    <tr>\n",
       "      <th>...</th>\n",
       "      <td>...</td>\n",
       "      <td>...</td>\n",
       "      <td>...</td>\n",
       "      <td>...</td>\n",
       "      <td>...</td>\n",
       "    </tr>\n",
       "    <tr>\n",
       "      <th>11995</th>\n",
       "      <td>0</td>\n",
       "      <td>1</td>\n",
       "      <td>ORG_INVITE</td>\n",
       "      <td>0</td>\n",
       "      <td>0</td>\n",
       "    </tr>\n",
       "    <tr>\n",
       "      <th>11996</th>\n",
       "      <td>0</td>\n",
       "      <td>0</td>\n",
       "      <td>SIGNUP_GOOGLE_AUTH</td>\n",
       "      <td>0</td>\n",
       "      <td>0</td>\n",
       "    </tr>\n",
       "    <tr>\n",
       "      <th>11997</th>\n",
       "      <td>0</td>\n",
       "      <td>1</td>\n",
       "      <td>GUEST_INVITE</td>\n",
       "      <td>1</td>\n",
       "      <td>1</td>\n",
       "    </tr>\n",
       "    <tr>\n",
       "      <th>11998</th>\n",
       "      <td>0</td>\n",
       "      <td>0</td>\n",
       "      <td>PERSONAL_PROJECTS</td>\n",
       "      <td>0</td>\n",
       "      <td>0</td>\n",
       "    </tr>\n",
       "    <tr>\n",
       "      <th>11999</th>\n",
       "      <td>0</td>\n",
       "      <td>0</td>\n",
       "      <td>SIGNUP</td>\n",
       "      <td>0</td>\n",
       "      <td>1</td>\n",
       "    </tr>\n",
       "  </tbody>\n",
       "</table>\n",
       "<p>12000 rows × 5 columns</p>\n",
       "</div>"
      ],
      "text/plain": [
       "       adopted_user  invited_by_user     creation_source  \\\n",
       "0                 0                1        GUEST_INVITE   \n",
       "1                 0                1          ORG_INVITE   \n",
       "2                 0                1          ORG_INVITE   \n",
       "3                 0                1        GUEST_INVITE   \n",
       "4                 0                1        GUEST_INVITE   \n",
       "...             ...              ...                 ...   \n",
       "11995             0                1          ORG_INVITE   \n",
       "11996             0                0  SIGNUP_GOOGLE_AUTH   \n",
       "11997             0                1        GUEST_INVITE   \n",
       "11998             0                0   PERSONAL_PROJECTS   \n",
       "11999             0                0              SIGNUP   \n",
       "\n",
       "       opted_in_to_mailing_list  enabled_for_marketing_drip  \n",
       "0                             1                           0  \n",
       "1                             0                           0  \n",
       "2                             0                           0  \n",
       "3                             0                           0  \n",
       "4                             0                           0  \n",
       "...                         ...                         ...  \n",
       "11995                         0                           0  \n",
       "11996                         0                           0  \n",
       "11997                         1                           1  \n",
       "11998                         0                           0  \n",
       "11999                         0                           1  \n",
       "\n",
       "[12000 rows x 5 columns]"
      ]
     },
     "execution_count": 9,
     "metadata": {},
     "output_type": "execute_result"
    }
   ],
   "source": [
    "df = df[[\"adopted_user\", \"invited_by_user\", \"creation_source\", \"opted_in_to_mailing_list\", \"enabled_for_marketing_drip\"]]\n",
    "df"
   ]
  },
  {
   "cell_type": "markdown",
   "metadata": {},
   "source": [
    "I decided to use Gradient Boosting here because of the fact that each tree is not trained independently, and is instead trained off the previous one. That will lead to a more accurate model when the fitting is done than its closest competitor, Random Forest."
   ]
  },
  {
   "cell_type": "code",
   "execution_count": 10,
   "metadata": {},
   "outputs": [],
   "source": [
    "def get_classification_report(df, resample=False, resample_mult=.5):\n",
    "    \n",
    "    '''\n",
    "    Gives a classification report on a gradient boosting model from the data set provided.\n",
    "    Also has the capability of oversampling the minority class via SMOTE resampling by specifying the 'resample'\n",
    "    parameter\n",
    "    '''\n",
    "    \n",
    "    X = df.drop('adopted_user', axis=1)\n",
    "    y = df['adopted_user']\n",
    "\n",
    "    X_train, X_test, y_train, y_test = train_test_split(X, y, stratify=y, random_state=11)\n",
    "    \n",
    "    if resample:\n",
    "        X_train['creation_source'] = X_train['creation_source'].map({'ORG_INVITE':0, 'PERSONAL_PROJECTS':1,\n",
    "                                                             'GUEST_INVITE':2, 'SIGNUP':3, 'SIGNUP_GOOGLE_AUTH':4})\n",
    "        X_test['creation_source'] = X_test['creation_source'].map({'ORG_INVITE':0, 'PERSONAL_PROJECTS':1,\n",
    "                                                             'GUEST_INVITE':2, 'SIGNUP':3, 'SIGNUP_GOOGLE_AUTH':4})\n",
    "        sm = SMOTE(sampling_strategy={0:     y_train.value_counts().values[0], \n",
    "                                      1: int(y_train.value_counts().values[0] * resample_mult)})\n",
    "        X_train, y_train = sm.fit_resample(X_train, y_train)\n",
    "    \n",
    "    \n",
    "    steps = [('encoder', OneHotEncoder()), ('gboost', GradientBoostingClassifier(random_state=11))]\n",
    "    param_grid = {'gboost__n_estimators': np.arange(10, 110, 10),\n",
    "                  'gboost__max_depth': np.arange(1, 6, 1)}\n",
    "\n",
    "    pipeline = Pipeline(steps)\n",
    "    cv = GridSearchCV(pipeline, param_grid, cv=3)\n",
    "    cv.fit(X_train, y_train)\n",
    "    \n",
    "    y_pred = cv.predict(X_test)\n",
    "    test_score = accuracy_score(y_test, y_pred)\n",
    "    print(f'Model accuracy: {round(test_score*100, 2)}%')\n",
    "    print(classification_report(y_test, y_pred))"
   ]
  },
  {
   "cell_type": "code",
   "execution_count": 11,
   "metadata": {},
   "outputs": [
    {
     "name": "stdout",
     "output_type": "stream",
     "text": [
      "Model accuracy: 94.83%\n",
      "              precision    recall  f1-score   support\n",
      "\n",
      "           0       0.95      1.00      0.97      2845\n",
      "           1       0.00      0.00      0.00       155\n",
      "\n",
      "    accuracy                           0.95      3000\n",
      "   macro avg       0.47      0.50      0.49      3000\n",
      "weighted avg       0.90      0.95      0.92      3000\n",
      "\n"
     ]
    }
   ],
   "source": [
    "get_classification_report(df)"
   ]
  },
  {
   "cell_type": "markdown",
   "metadata": {},
   "source": [
    "Very good accuracy on the model. However, this problem has such an imbalance of classes that the model is just predicting that everyone is a non-adopted user and calling it good. That's not what we want. So let's do some oversampling of our under represented class so the difference isn't 28:1. First we'll do a 50% split of adopted user class to non-adopted user class."
   ]
  },
  {
   "cell_type": "code",
   "execution_count": 12,
   "metadata": {},
   "outputs": [
    {
     "name": "stdout",
     "output_type": "stream",
     "text": [
      "Model accuracy: 94.83%\n",
      "              precision    recall  f1-score   support\n",
      "\n",
      "           0       0.95      1.00      0.97      2845\n",
      "           1       0.00      0.00      0.00       155\n",
      "\n",
      "    accuracy                           0.95      3000\n",
      "   macro avg       0.47      0.50      0.49      3000\n",
      "weighted avg       0.90      0.95      0.92      3000\n",
      "\n"
     ]
    }
   ],
   "source": [
    "get_classification_report(df, resample=True, resample_mult=.5)"
   ]
  },
  {
   "cell_type": "markdown",
   "metadata": {},
   "source": [
    "Still not predicting our adopted user class. Let's try the sampling strategy of 75% adopted user class."
   ]
  },
  {
   "cell_type": "code",
   "execution_count": 13,
   "metadata": {},
   "outputs": [
    {
     "name": "stdout",
     "output_type": "stream",
     "text": [
      "Model accuracy: 78.43%\n",
      "              precision    recall  f1-score   support\n",
      "\n",
      "           0       0.95      0.81      0.88      2845\n",
      "           1       0.07      0.25      0.11       155\n",
      "\n",
      "    accuracy                           0.78      3000\n",
      "   macro avg       0.51      0.53      0.49      3000\n",
      "weighted avg       0.91      0.78      0.84      3000\n",
      "\n"
     ]
    }
   ],
   "source": [
    "get_classification_report(df, resample=True, resample_mult=.75)"
   ]
  },
  {
   "cell_type": "markdown",
   "metadata": {},
   "source": [
    "There we go, now we're getting some predictions on the adopted user class. It's bringing the accuracy of the model down, but at least we're finally getting some predictions. Let's take a look at one more test using an even split of both classes in the training data."
   ]
  },
  {
   "cell_type": "code",
   "execution_count": 14,
   "metadata": {},
   "outputs": [
    {
     "name": "stdout",
     "output_type": "stream",
     "text": [
      "Model accuracy: 46.97%\n",
      "              precision    recall  f1-score   support\n",
      "\n",
      "           0       0.96      0.46      0.62      2845\n",
      "           1       0.06      0.62      0.11       155\n",
      "\n",
      "    accuracy                           0.47      3000\n",
      "   macro avg       0.51      0.54      0.37      3000\n",
      "weighted avg       0.91      0.47      0.60      3000\n",
      "\n"
     ]
    }
   ],
   "source": [
    "get_classification_report(df, resample=True, resample_mult=1)"
   ]
  },
  {
   "cell_type": "markdown",
   "metadata": {},
   "source": [
    "Now we're getting somewhere. Although the accuracy of the model is below 50%, it's able to predict both classes, and has a pretty good handle on the precision of the non-adopted user class, but not really confident about the adopted user class. Very interesting result."
   ]
  },
  {
   "cell_type": "markdown",
   "metadata": {},
   "source": [
    "However, we're not just here for classification reports and accuracies. We want to know what variables have the largest effect on user retention, so let's use our 75% split case and take a look at the feature importances for that case."
   ]
  },
  {
   "cell_type": "code",
   "execution_count": 15,
   "metadata": {},
   "outputs": [],
   "source": [
    "def get_feature_importances(df):\n",
    "    \n",
    "    '''\n",
    "    Provides the feature importances based on the model witha 75% split between majority and minority classes.\n",
    "    '''\n",
    "    \n",
    "    X = df.drop('adopted_user', axis=1)\n",
    "    y = df['adopted_user']\n",
    "\n",
    "    X_train, X_test, y_train, y_test = train_test_split(X, y, stratify=y, random_state=11)\n",
    "    \n",
    "    X_train['creation_source'] = X_train['creation_source'].map({'ORG_INVITE':0, 'PERSONAL_PROJECTS':1,\n",
    "                                                             'GUEST_INVITE':2, 'SIGNUP':3, 'SIGNUP_GOOGLE_AUTH':4})\n",
    "    X_test['creation_source'] = X_test['creation_source'].map({'ORG_INVITE':0, 'PERSONAL_PROJECTS':1,\n",
    "                                                             'GUEST_INVITE':2, 'SIGNUP':3, 'SIGNUP_GOOGLE_AUTH':4})\n",
    "    \n",
    "    sm = SMOTE(sampling_strategy={0:     y_train.value_counts().values[0], \n",
    "                                  1: int(y_train.value_counts().values[0] * .75)})\n",
    "    X_train, y_train = sm.fit_resample(X_train, y_train)\n",
    "    \n",
    "    \n",
    "    steps = [('encoder', OneHotEncoder()), ('gboost', GradientBoostingClassifier(random_state=11))]\n",
    "    param_grid = {'gboost__n_estimators': np.arange(10, 110, 10),\n",
    "                  'gboost__max_depth': np.arange(1, 6, 1)}\n",
    "\n",
    "    pipeline = Pipeline(steps)\n",
    "    cv = GridSearchCV(pipeline, param_grid, cv=3)\n",
    "    cv.fit(X_train, y_train)\n",
    "    \n",
    "    X_test['creation_source'] = X_test['creation_source'].map({0:'ORG_INVITE', 1:'PERSONAL_PROJECTS',\n",
    "                                                               2:'GUEST_INVITE', 3:'SIGNUP', \n",
    "                                                               4:'SIGNUP_GOOGLE_AUTH'})\n",
    "    X_dums = pd.get_dummies(X_test)\n",
    "    pipeline.fit(X_dums, y_test)\n",
    "\n",
    "    importance = pipeline.named_steps['gboost'].feature_importances_\n",
    "\n",
    "    feature_importance = list(zip(X_dums.columns, importance))\n",
    "    feature_importances = pd.DataFrame.from_records(feature_importance, columns=['Feature', 'Importance'])\n",
    "    feature_importances = feature_importances.set_index('Feature').sort_values('Importance')\n",
    "    print(feature_importances)\n",
    "    \n",
    "    plt.figure(figsize=(18,10))\n",
    "    plt.barh(feature_importances.index, width=feature_importances['Importance'] * 100, color='r')\n",
    "    plt.title('Gradient Boosting Feature Importances (%)')\n",
    "    plt.ylabel('Feature of data set')\n",
    "    plt.xlabel('Percentage Importance')\n",
    "    plt.show()"
   ]
  },
  {
   "cell_type": "code",
   "execution_count": 16,
   "metadata": {},
   "outputs": [
    {
     "name": "stdout",
     "output_type": "stream",
     "text": [
      "                                    Importance\n",
      "Feature                                       \n",
      "creation_source_SIGNUP                0.011505\n",
      "creation_source_SIGNUP_GOOGLE_AUTH    0.014771\n",
      "opted_in_to_mailing_list              0.030588\n",
      "creation_source_ORG_INVITE            0.040380\n",
      "invited_by_user                       0.050039\n",
      "creation_source_PERSONAL_PROJECTS     0.061309\n",
      "enabled_for_marketing_drip            0.123917\n",
      "creation_source_GUEST_INVITE          0.285108\n"
     ]
    },
    {
     "data": {
      "image/png": "[encoded data removed]",
      "text/plain": [
       "<Figure size 1296x720 with 1 Axes>"
      ]
     },
     "metadata": {
      "needs_background": "light"
     },
     "output_type": "display_data"
    }
   ],
   "source": [
    "get_feature_importances(df)"
   ]
  },
  {
   "cell_type": "markdown",
   "metadata": {},
   "source": [
    "Overall, we trained a good model for making predictions on user engagement. By taking a look at feature importances, the business can narrow down its marketing strategy and focus on what the most important features its using for getting and retaining users in the future. \n",
    "\n",
    "The most important feature, by a good margin, was guest invites. So people that are already guests and recommending this software to their peers are very important in user engagement on the site. Relax Inc. could adjust their marketing strategy to focus more on this and allow for collaborative efforts with user groups.\n",
    "\n",
    "The next most important feature in this data set was whether these people were signed up for the marketing drip. Relax could find new ways of keeping users engaged with their marketing plan which will allow for more engagement with the software overall."
   ]
  }
 ],
 "metadata": {
  "kernelspec": {
   "display_name": "Python 3",
   "language": "python",
   "name": "python3"
  },
  "language_info": {
   "codemirror_mode": {
    "name": "ipython",
    "version": 3
   },
   "file_extension": ".py",
   "mimetype": "text/x-python",
   "name": "python",
   "nbconvert_exporter": "python",
   "pygments_lexer": "ipython3",
   "version": "3.7.6"
  }
 },
 "nbformat": 4,
 "nbformat_minor": 2
}
